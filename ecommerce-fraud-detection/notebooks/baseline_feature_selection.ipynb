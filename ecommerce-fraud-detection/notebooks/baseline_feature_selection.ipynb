{
 "cells": [
  {
   "cell_type": "markdown",
   "metadata": {},
   "source": [
    "# Baseline Feature Selection for E-commerce Fraud Detection\n",
    "\n",
    "This notebook aims to perform baseline feature selection to identify the most relevant features for the fraud detection model."
   ]
  },
  {
   "cell_type": "code",
   "execution_count": null,
   "metadata": {
    "collapsed": false
   },
   "outputs": [],
   "source": [
    "import pandas as pd\n",
    "from sklearn.feature_selection import SelectKBest, f_classif\n",
    "from sklearn.model_selection import train_test_split\n",
    "\n",
    "# Load the cleaned transaction data\n",
    "data = pd.read_csv('../data/processed/transactions_cleaned.csv')\n",
    "\n",
    "# Define features and target variable\n",
    "X = data.drop('is_fraud', axis=1)\n",
    "y = data['is_fraud']\n",
    "\n",
    "# Split the data into training and testing sets\n",
    "X_train, X_test, y_train, y_test = train_test_split(X, y, test_size=0.2, random_state=42)\n",
    "\n",
    "# Perform feature selection\n",
    "selector = SelectKBest(score_func=f_classif, k='all')\n",
    "selector.fit(X_train, y_train)\n",
    "\n",
    "# Get the scores and feature names\n",
    "scores = selector.scores_\n",
    "feature_names = X.columns\n",
    "\n",
    "# Create a DataFrame to display the scores\n",
    "feature_scores = pd.DataFrame({'Feature': feature_names, 'Score': scores})\n",
    "feature_scores = feature_scores.sort_values(by='Score', ascending=False)\n",
    "\n",
    "# Display the feature scores\n",
    "feature_scores"
   ]
  }
 ],
 "metadata": {
  "kernelspec": {
   "display_name": "Python 3",
   "language": "python",
   "name": "python3"
  },
  "language_info": {
   "codemirror_mode": {
    "name": "ipython",
    "version": 3
   },
   "file_extension": ".py",
   "mimetype": "text/x-python",
   "name": "python",
   "nbconvert_exporter": "python",
   "pygments_lexer": "ipython3",
   "version": "3.8.5"
  }
 },
 "nbformat": 4,
 "nbformat_minor": 4
}